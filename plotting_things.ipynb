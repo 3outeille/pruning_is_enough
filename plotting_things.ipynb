{
 "cells": [
  {
   "cell_type": "code",
   "execution_count": 20,
   "id": "published-induction",
   "metadata": {},
   "outputs": [],
   "source": [
    "import torch\n",
    "import numpy\n",
    "import re\n",
    "import pandas as pd\n",
    "\n",
    "from matplotlib import colors as mcolors\n",
    "from pylab import *\n",
    "plt.style.use('seaborn-whitegrid')\n",
    "%matplotlib inline"
   ]
  },
  {
   "cell_type": "code",
   "execution_count": 29,
   "id": "dependent-fundamentals",
   "metadata": {},
   "outputs": [],
   "source": [
    "x = torch.tensor([0.05, 0.06, 0.07, 0.08, 0.2, 0.3, 0.4, 0.5, 0.7, 0.99, 0.98, 0.97, 0.96])\n",
    "x1 = torch.tensor([0.05, 0.06, 0.07, 0.08, 0.2, 0.3, 0.4, 0.5, 0.7, 0.99, 0.98, 0.97, 0.96])\n",
    "x2 = torch.tensor([0.05, 0.06, 0.07, 0.08, 0.2, 0.3, 0.4, 0.5, 0.7, 0.99, 0.98, 0.97, 0.96])\n",
    "x3 = torch.tensor([0.05, 0.06, 0.07, 0.08, 0.2, 0.3, 0.4, 0.5, 0.7, 0.99, 0.98, 0.97, 0.96])"
   ]
  },
  {
   "cell_type": "code",
   "execution_count": 26,
   "id": "classical-guatemala",
   "metadata": {},
   "outputs": [
    {
     "data": {
      "text/plain": [
       "(array([4., 1., 1., 1., 1., 0., 1., 0., 0., 4.]),\n",
       " array([0.05      , 0.14400001, 0.238     , 0.33200002, 0.426     ,\n",
       "        0.52      , 0.614     , 0.708     , 0.802     , 0.896     ,\n",
       "        0.99      ], dtype=float32),\n",
       " <BarContainer object of 10 artists>)"
      ]
     },
     "execution_count": 26,
     "metadata": {},
     "output_type": "execute_result"
    },
    {
     "data": {
      "image/png": "[encoded data removed]",
      "text/plain": [
       "<Figure size 432x288 with 1 Axes>"
      ]
     },
     "metadata": {
      "needs_background": "light"
     },
     "output_type": "display_data"
    }
   ],
   "source": [
    "y = np.array([0.05, 0.06, 0.07, 0.08, 0.2, 0.3, 0.4, 0.5, 0.7, 0.99, 0.98, 0.97, 0.96])\n",
    "plt.hist(x.numpy(), facecolor = '#2ab0ff', edgecolor='#169acf', density=False, linewidth=0.5, bins=10)"
   ]
  },
  {
   "cell_type": "code",
   "execution_count": 34,
   "id": "electric-samoa",
   "metadata": {},
   "outputs": [
    {
     "data": {
      "text/plain": [
       "(array([4., 1., 1., 1., 1., 0., 1., 0., 0., 4.]),\n",
       " array([0.05      , 0.14400001, 0.238     , 0.33200002, 0.426     ,\n",
       "        0.52      , 0.614     , 0.708     , 0.802     , 0.896     ,\n",
       "        0.99      ], dtype=float32),\n",
       " <BarContainer object of 10 artists>)"
      ]
     },
     "execution_count": 34,
     "metadata": {},
     "output_type": "execute_result"
    },
    {
     "data": {
      "image/png": "[encoded data removed]",
      "text/plain": [
       "<Figure size 432x288 with 4 Axes>"
      ]
     },
     "metadata": {
      "needs_background": "light"
     },
     "output_type": "display_data"
    }
   ],
   "source": [
    "fig, axs = plt.subplots(2, 2)\n",
    "axs[0, 0].hist(x.numpy(), facecolor = '#2ab0ff', edgecolor='#169acf', density=False, linewidth=0.5, bins=10)\n",
    "axs[0, 0].set_title('Axis [0, 0]')\n",
    "axs[0, 1].hist(x1.numpy(), facecolor = '#2ab0ff', edgecolor='#169acf', density=False, linewidth=0.5, bins=10)\n",
    "axs[1, 0].hist(x2.numpy(), facecolor = '#2ab0ff', edgecolor='#169acf', density=False, linewidth=0.5, bins=10)\n",
    "axs[1, 1].hist(x3.numpy(), facecolor = '#2ab0ff', edgecolor='#169acf', density=False, linewidth=0.5, bins=10)"
   ]
  },
  {
   "cell_type": "code",
   "execution_count": 35,
   "id": "junior-immunology",
   "metadata": {},
   "outputs": [],
   "source": [
    "x = torch.tensor([[0,0], [0,1], [0,3]])"
   ]
  },
  {
   "cell_type": "code",
   "execution_count": 36,
   "id": "great-benchmark",
   "metadata": {},
   "outputs": [
    {
     "data": {
      "text/plain": [
       "tensor([[0, 0],\n",
       "        [0, 1],\n",
       "        [0, 3]])"
      ]
     },
     "execution_count": 36,
     "metadata": {},
     "output_type": "execute_result"
    }
   ],
   "source": [
    "x"
   ]
  },
  {
   "cell_type": "code",
   "execution_count": 37,
   "id": "surface-danish",
   "metadata": {},
   "outputs": [
    {
     "data": {
      "text/plain": [
       "array([0, 0, 0, 1, 0, 3])"
      ]
     },
     "execution_count": 37,
     "metadata": {},
     "output_type": "execute_result"
    }
   ],
   "source": [
    "x.flatten().numpy()"
   ]
  },
  {
   "cell_type": "code",
   "execution_count": null,
   "id": "continental-colors",
   "metadata": {},
   "outputs": [],
   "source": []
  }
 ],
 "metadata": {
  "kernelspec": {
   "display_name": "Python 3",
   "language": "python",
   "name": "python3"
  },
  "language_info": {
   "codemirror_mode": {
    "name": "ipython",
    "version": 3
   },
   "file_extension": ".py",
   "mimetype": "text/x-python",
   "name": "python",
   "nbconvert_exporter": "python",
   "pygments_lexer": "ipython3",
   "version": "3.8.2"
  }
 },
 "nbformat": 4,
 "nbformat_minor": 5
}
