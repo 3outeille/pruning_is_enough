{
 "cells": [
  {
   "cell_type": "code",
   "execution_count": 7,
   "id": "worse-mystery",
   "metadata": {},
   "outputs": [
    {
     "name": "stdout",
     "output_type": "stream",
     "text": [
      "Seeded everything: 42\n"
     ]
    }
   ],
   "source": [
    "import torch\n",
    "import torch.nn as nn\n",
    "import pandas as pd\n",
    "import math\n",
    "import random\n",
    "import torch.optim as optim\n",
    "import numpy as np\n",
    "import matplotlib.pyplot as plt\n",
    "#%matplotlib inline\n",
    "\n",
    "t = 0.5\n",
    "seed = 42\n",
    "# MAX_EPOCHS = int(1e6)\n",
    "\n",
    "# problem setup: min( ||p*a - t||^2 + \\lambda*\\sum{(p_i)*(1-p_i)*a_i^2})\n",
    "\n",
    "def get_regularization(n, p, a, lmbda=1.0):\n",
    "    reg = torch.sum(p * (1-p) * torch.pow(a, 2))\n",
    "    reg = lmbda * reg \n",
    "    return reg\n",
    "\n",
    "def set_seed(seed):\n",
    "    random.seed(seed)\n",
    "    torch.manual_seed(seed)\n",
    "    np.random.seed(seed)\n",
    "    print(\"Seeded everything: {}\".format(seed))\n",
    "\n",
    "set_seed(seed)"
   ]
  },
  {
   "cell_type": "code",
   "execution_count": 36,
   "id": "economic-hormone",
   "metadata": {},
   "outputs": [],
   "source": [
    "# decide regularizer\n",
    "\n",
    "def subset_sum(num_samples=10, lmbda=0, lr=0.0001, p_init='uniform', optim_algo='Adam'):\n",
    "    a = torch.zeros(num_samples)\n",
    "    p = nn.Parameter(torch.Tensor(a.size()))\n",
    "    a.requires_grad = False\n",
    "    p_list = []\n",
    "    tot_loss_list = []\n",
    "    subset_loss_list = []\n",
    "    epoch_list = []\n",
    "    \n",
    "    if optim_algo == 'Adam':\n",
    "        optimizer = optim.Adam(\n",
    "                    [p],\n",
    "                    lr=0.01,\n",
    "                    weight_decay=0)\n",
    "    else:\n",
    "        optimizer = optim.SGD(\n",
    "                    [p],\n",
    "                    lr=lr,\n",
    "                    weight_decay=0)\n",
    "\n",
    "    # initialize a as uniform [-1, 1]\n",
    "    nn.init.uniform_(a, a=-1, b=1)\n",
    "    if p_init == 'uniform':\n",
    "        nn.init.uniform_(p, a=0, b=1)\n",
    "    else:\n",
    "        nn.init.normal_(p, mean=0.5)\n",
    "        p.data = torch.clamp(p.data, 0.0, 1.0)\n",
    "\n",
    "    # need to increase T for each n\n",
    "    MAX_EPOCHS = 1000\n",
    "    # MAX_EPOCHS = int(1e6*math.log(num_samples,10))\n",
    "\n",
    "    CONVERGED_FLAG=False\n",
    "    for num_iter in range(MAX_EPOCHS):\n",
    "        optimizer.zero_grad()\n",
    "        loss = (t - torch.sum(p*a))**2 + get_regularization(num_samples, p, a, lmbda=lmbda)\n",
    "        loss.backward()\n",
    "        optimizer.step()\n",
    "        # loss we care out is not the total loss. Just the subset sum loss\n",
    "        subset_loss_list.append(((t - torch.sum(p*a))**2).item())\n",
    "        # also remember total loss for stopping criterion\n",
    "        tot_loss_list.append(loss.item())\n",
    "        epoch_list.append(num_iter)\n",
    "        p_list.append(p.data)\n",
    "        if num_iter % 1000 == 0 and num_iter != 0:\n",
    "            print(\"Iteration={} | Loss={}\".format(num_iter, loss))\n",
    "        p.data = torch.clamp(p.data, 0.0, 1.0)\n",
    "        if num_iter > 5 and loss.item() == tot_loss_list[-2]:\n",
    "            print(\"Iteration={} | Converged\".format(num_iter))\n",
    "            CONVERGED_FLAG=True\n",
    "            break\n",
    "\n",
    "    # by the recent paper, error should be O(1/n^logn)\n",
    "    min_error = 1.0/(num_samples**np.log(num_samples))\n",
    "    # print(\"Minimum Error = {}\".format(min_error))\n",
    "    results_df = pd.DataFrame({'epoch': epoch_list, 'loss': subset_loss_list})\n",
    "    return min_error, p, results_df, CONVERGED_FLAG\n",
    "\n",
    "# returns number of vertices which are fractional\n",
    "def get_num_frac(x, num_samples):\n",
    "    num_middle = torch.sum(torch.gt(x,\n",
    "                           torch.ones_like(x)*0) *\n",
    "                           torch.lt(x,\n",
    "                           torch.ones_like(x*(1)).int())).item()\n",
    "    return 1.0*num_middle/num_samples\n",
    "\n",
    "# returns l2 distance to the nearest vertex\n",
    "def get_dist_to_vertex(x):\n",
    "    rounded_x = torch.gt(x, torch.ones_like(x)*0.5).int().float()\n",
    "    return torch.norm(x-rounded_x).item()"
   ]
  },
  {
   "cell_type": "code",
   "execution_count": 39,
   "id": "cleared-steal",
   "metadata": {},
   "outputs": [
    {
     "name": "stdout",
     "output_type": "stream",
     "text": [
      "Num Samples = 10\n",
      "Iteration=860 | Converged\n",
      "\n",
      "\n",
      "\n",
      "-------------------------------------------------------------------------------------------------------------------\n",
      "Lambda = 0.004982128296440718 | Converged = True | Error_ratio=0.0015383031279012343 | Final error=7.664023542020004e-06 | Minimum error=0.004982128296440718 | num_frac=0.1 | dist_to_veretx=0.2364918291568756\n",
      "-------------------------------------------------------------------------------------------------------------------\n",
      "\n",
      "\n",
      "\n",
      "Iteration=159 | Converged\n",
      "\n",
      "\n",
      "\n",
      "-------------------------------------------------------------------------------------------------------------------\n",
      "Lambda = 1.0 | Converged = True | Error_ratio=0.041917123159619984 | Final error=0.0002088364853989333 | Minimum error=0.004982128296440718 | num_frac=0.0 | dist_to_veretx=0.0\n",
      "-------------------------------------------------------------------------------------------------------------------\n",
      "\n",
      "\n",
      "\n",
      "Num Samples = 100.0\n",
      "Iteration=233 | Converged\n",
      "\n",
      "\n",
      "\n",
      "-------------------------------------------------------------------------------------------------------------------\n",
      "Lambda = 6.161119438269389e-10 | Converged = True | Error_ratio=0.007063771933226923 | Final error=4.352074256530614e-12 | Minimum error=6.161119438269389e-10 | num_frac=1.0 | dist_to_veretx=2.9369325637817383\n",
      "-------------------------------------------------------------------------------------------------------------------\n",
      "\n",
      "\n",
      "\n",
      "\n",
      "\n",
      "\n",
      "-------------------------------------------------------------------------------------------------------------------\n",
      "Lambda = 1.0 | Converged = False | Error_ratio=8668074.118484503 | Final error=0.005340503994375467 | Minimum error=6.161119438269389e-10 | num_frac=0.23 | dist_to_veretx=1.0915857553482056\n",
      "-------------------------------------------------------------------------------------------------------------------\n",
      "\n",
      "\n",
      "\n",
      "Num Samples = 1000.0\n",
      "Iteration=184 | Converged\n",
      "\n",
      "\n",
      "\n",
      "-------------------------------------------------------------------------------------------------------------------\n",
      "Lambda = 1.8911856464889794e-21 | Converged = True | Error_ratio=198446413943563.94 | Final error=3.752990096472786e-07 | Minimum error=1.8911856464889794e-21 | num_frac=1.0 | dist_to_veretx=8.936907768249512\n",
      "-------------------------------------------------------------------------------------------------------------------\n",
      "\n",
      "\n",
      "\n",
      "\n",
      "\n",
      "\n",
      "-------------------------------------------------------------------------------------------------------------------\n",
      "Lambda = 1.0 | Converged = False | Error_ratio=2.1436954912290415e+19 | Final error=0.040541261434555054 | Minimum error=1.8911856464889794e-21 | num_frac=0.027 | dist_to_veretx=1.713438630104065\n",
      "-------------------------------------------------------------------------------------------------------------------\n",
      "\n",
      "\n",
      "\n"
     ]
    },
    {
     "data": {
      "text/plain": [
       "<Figure size 432x288 with 0 Axes>"
      ]
     },
     "metadata": {},
     "output_type": "display_data"
    },
    {
     "data": {
      "image/png": "[encoded data removed]",
      "text/plain": [
       "<Figure size 432x288 with 1 Axes>"
      ]
     },
     "metadata": {
      "needs_background": "light"
     },
     "output_type": "display_data"
    },
    {
     "data": {
      "text/plain": [
       "<Figure size 432x288 with 0 Axes>"
      ]
     },
     "metadata": {},
     "output_type": "display_data"
    },
    {
     "data": {
      "image/png": "[encoded data removed]",
      "text/plain": [
       "<Figure size 432x288 with 1 Axes>"
      ]
     },
     "metadata": {
      "needs_background": "light"
     },
     "output_type": "display_data"
    },
    {
     "data": {
      "text/plain": [
       "<Figure size 432x288 with 0 Axes>"
      ]
     },
     "metadata": {},
     "output_type": "display_data"
    },
    {
     "data": {
      "image/png": "[encoded data removed]",
      "text/plain": [
       "<Figure size 432x288 with 1 Axes>"
      ]
     },
     "metadata": {
      "needs_background": "light"
     },
     "output_type": "display_data"
    },
    {
     "data": {
      "text/plain": [
       "<Figure size 432x288 with 0 Axes>"
      ]
     },
     "metadata": {},
     "output_type": "display_data"
    },
    {
     "data": {
      "image/png": "[encoded data removed]",
      "text/plain": [
       "<Figure size 432x288 with 1 Axes>"
      ]
     },
     "metadata": {
      "needs_background": "light"
     },
     "output_type": "display_data"
    },
    {
     "data": {
      "text/plain": [
       "<Figure size 432x288 with 0 Axes>"
      ]
     },
     "metadata": {},
     "output_type": "display_data"
    },
    {
     "data": {
      "image/png": "[encoded data removed]",
      "text/plain": [
       "<Figure size 432x288 with 1 Axes>"
      ]
     },
     "metadata": {
      "needs_background": "light"
     },
     "output_type": "display_data"
    },
    {
     "data": {
      "text/plain": [
       "<Figure size 432x288 with 0 Axes>"
      ]
     },
     "metadata": {},
     "output_type": "display_data"
    },
    {
     "data": {
      "image/png": "[encoded data removed]",
      "text/plain": [
       "<Figure size 432x288 with 1 Axes>"
      ]
     },
     "metadata": {
      "needs_background": "light"
     },
     "output_type": "display_data"
    },
    {
     "data": {
      "text/plain": [
       "<Figure size 432x288 with 0 Axes>"
      ]
     },
     "metadata": {},
     "output_type": "display_data"
    },
    {
     "data": {
      "image/png": "[encoded data removed]",
      "text/plain": [
       "<Figure size 432x288 with 1 Axes>"
      ]
     },
     "metadata": {
      "needs_background": "light"
     },
     "output_type": "display_data"
    },
    {
     "data": {
      "text/plain": [
       "<Figure size 432x288 with 0 Axes>"
      ]
     },
     "metadata": {},
     "output_type": "display_data"
    },
    {
     "data": {
      "image/png": "[encoded data removed]",
      "text/plain": [
       "<Figure size 432x288 with 1 Axes>"
      ]
     },
     "metadata": {
      "needs_background": "light"
     },
     "output_type": "display_data"
    },
    {
     "data": {
      "text/plain": [
       "<Figure size 432x288 with 0 Axes>"
      ]
     },
     "metadata": {},
     "output_type": "display_data"
    },
    {
     "data": {
      "image/png": "[encoded data removed]",
      "text/plain": [
       "<Figure size 432x288 with 1 Axes>"
      ]
     },
     "metadata": {
      "needs_background": "light"
     },
     "output_type": "display_data"
    }
   ],
   "source": [
    "avg_error_ratios = []\n",
    "for num_samples in [10, 1e2, 1e3]:#, 1e4, 1e5, 1e6, 1e7]:\n",
    "    print(\"Num Samples = {}\".format(num_samples))\n",
    "    error_ratio_list = []\n",
    "    min_error_list = []\n",
    "    error_list = []\n",
    "    lmbda_list = []\n",
    "    num_frac_list = []\n",
    "    dist_to_vertex_list = []\n",
    "    converged_flag_list = []\n",
    "    min_lmbda = 1/(num_samples**math.log(num_samples))\n",
    "    max_lmbda = 1.0\n",
    "    lmbda_range = np.linspace(min_lmbda, max_lmbda, 2, endpoint=True)\n",
    "    for lmbda in lmbda_range:\n",
    "        num_samples = int(num_samples)\n",
    "        min_error, p_final, results_df, CONVERGED_FLAG = subset_sum(num_samples, lmbda)\n",
    "        final_error = results_df.tail(1).loss.item()\n",
    "        error_list.append(final_error)\n",
    "        min_error_list.append(min_error)\n",
    "        lmbda_list.append(lmbda)\n",
    "        num_frac = get_num_frac(p_final, num_samples)\n",
    "        num_frac_list.append(num_frac)\n",
    "        dist_to_vertex = get_dist_to_vertex(p_final)\n",
    "        dist_to_vertex_list.append(dist_to_vertex)\n",
    "        error_ratio = 1.0*final_error/min_error\n",
    "        error_ratio_list.append(error_ratio)\n",
    "        converged_flag_list.append(CONVERGED_FLAG)\n",
    "        print(\"\\n\\n\\n-------------------------------------------------------------------------------------------------------------------\")\n",
    "        print(\"Lambda = {} | Converged = {} | Error_ratio={} | Final error={} | Minimum error={} | num_frac={} | dist_to_veretx={}\".\\\n",
    "                format(lmbda, CONVERGED_FLAG, error_ratio, final_error, min_error, num_frac, dist_to_vertex))\n",
    "        print(\"-------------------------------------------------------------------------------------------------------------------\\n\\n\\n\")\n",
    "\n",
    "    results_df = pd.DataFrame({\"lambda\": lmbda_list, \"error\": error_list,\n",
    "                                \"num_frac\": num_frac_list, \"dist_to_vertex\": dist_to_vertex_list,\n",
    "                                \"min_error\": min_error_list, \"error_ratio\": error_ratio_list,\n",
    "                                \"converged\": converged_flag_list})\n",
    "\n",
    "    results_df['lambda'] = results_df['lambda'].to_numpy()\n",
    "    results_df['error'] = results_df['error'].to_numpy()\n",
    "    results_df['num_frac'] = results_df['num_frac'].to_numpy()\n",
    "    results_df['min_error'] = results_df['min_error'].to_numpy()\n",
    "    # print for each lambda the non 0-1 for each number of samples\n",
    "    plt.figure()\n",
    "    ax = results_df[results_df['converged'] == True].plot(x=\"lambda\", y=\"num_frac\", kind = \"scatter\", color='blue',\n",
    "                                                          title=\"Num samples={}\".format(num_samples))\n",
    "    results_df[results_df['converged'] == False].plot(ax=ax, x=\"lambda\", y=\"num_frac\", kind = \"scatter\", color='red',\n",
    "                                                  title=\"Num samples={}\".format(num_samples))\n",
    "    plt.savefig(\"lambda_vs_num_frac_num_samples_{}\".format(num_samples))\n",
    "    # plot for each lambda the distance from the vertex for the minimum\n",
    "    plt.figure()\n",
    "    ax = results_df[results_df['converged'] == True].plot(x=\"lambda\", y=\"dist_to_vertex\", kind=\"scatter\", color=\"blue\",\n",
    "                                                        title=\"Num samples={}\".format(num_samples))\n",
    "    results_df[results_df['converged'] == False].plot(ax=ax, x=\"lambda\", y=\"dist_to_vertex\", kind=\"scatter\", color=\"red\",\n",
    "                                                        title=\"Num samples={}\".format(num_samples))\n",
    "    plt.savefig(\"lambda_vs_dist_to_vertex_num_samples_{}\".format(num_samples))\n",
    "    plt.figure()\n",
    "    ax = results_df[results_df['converged'] == True].plot(x=\"lambda\", y=\"error\", kind='scatter', color=\"blue\",\n",
    "                                                          title=\"Num samples={}\".format(num_samples))\n",
    "    results_df[results_df['converged'] == False].plot(ax=ax, x=\"lambda\", y=\"error\", kind='scatter', color=\"red\",\n",
    "                                                          title=\"Num samples={}\".format(num_samples))\n",
    "    # plot the minimum error for different lambdas for each number of samples\n",
    "    results_df.plot(x=\"lambda\", y=\"min_error\", ax=ax)\n",
    "    plt.savefig(\"lambda_vs_error_num_samples_{}\".format(num_samples))"
   ]
  },
  {
   "cell_type": "code",
   "execution_count": null,
   "id": "humanitarian-daughter",
   "metadata": {},
   "outputs": [],
   "source": []
  },
  {
   "cell_type": "code",
   "execution_count": 4,
   "id": "attractive-genesis",
   "metadata": {},
   "outputs": [
    {
     "name": "stdout",
     "output_type": "stream",
     "text": [
      "Lambda = 1e-06 | Error_ratio=0.17659429833067308 | Final error=1.0880185641326534e-10 | Minimum error=6.161119438269389e-10 | Num fractional coordinates=1.0 | dist_to_veretx=2.074002265930176\n",
      "Lambda = 1e-05 | Error_ratio=0.08442504887704112 | Final error=5.2015280971318134e-11 | Minimum error=6.161119438269389e-10 | Num fractional coordinates=1.0 | dist_to_veretx=1.7375987768173218\n",
      "Lambda = 0.0001 | Error_ratio=1542079.5254123025 | Final error=0.0009500936139374971 | Minimum error=6.161119438269389e-10 | Num fractional coordinates=0.01 | dist_to_veretx=0.472167432308197\n",
      "Iteration=100000 | Loss=1.1880521455509552e-08\n",
      "Lambda = 0.001 | Error_ratio=978194.2705141767 | Final error=0.0006026771734468639 | Minimum error=6.161119438269389e-10 | Num fractional coordinates=0.01 | dist_to_veretx=0.0050104898400604725\n",
      "Lambda = 0.01 | Error_ratio=135065.53778913777 | Final error=8.321549103129655e-05 | Minimum error=6.161119438269389e-10 | Num fractional coordinates=0.01 | dist_to_veretx=0.23925790190696716\n",
      "Lambda = 0.1 | Error_ratio=22426341.910252273 | Final error=0.013817137107253075 | Minimum error=6.161119438269389e-10 | Num fractional coordinates=0.01 | dist_to_veretx=0.21964401006698608\n",
      "Lambda = 0 | Error_ratio=5242234.691378327 | Final error=0.003229803405702114 | Minimum error=6.161119438269389e-10 | Num fractional coordinates=0.0 | dist_to_veretx=0.0\n"
     ]
    }
   ],
   "source": [
    "num_samples = 100\n",
    "min_error_list = []\n",
    "error_list = []\n",
    "lmbda_list = []\n",
    "num_frac_list = []\n",
    "dist_to_vertex_list = []\n",
    "error_ratio_list = []\n",
    "\n",
    "for lmbda in [1e-6, 1e-5, 1e-4, 1e-3, 1e-2, 1e-1, 0]:\n",
    "    min_error, p_final, results_df = subset_sum(num_samples, lmbda)\n",
    "    final_error = results_df.tail(1).loss.item()\n",
    "    num_frac = get_num_frac(p_final, num_samples)\n",
    "    dist_to_vertex = get_dist_to_vertex(p_final)\n",
    "    print(\"Lambda = {} | Error_ratio={} | Final error={} | Minimum error={} | Num fractional coordinates={} | dist_to_veretx={}\".\\\n",
    "          format(lmbda, final_error/min_error, final_error, min_error, num_frac, dist_to_vertex))\n",
    "    error_list.append(final_error)\n",
    "    min_error_list.append(min_error)\n",
    "    num_frac_list.append(num_frac)\n",
    "    dist_to_vertex_list.append(dist_to_vertex)\n",
    "    lmbda_list.append(lmbda)\n",
    "    error_ratio_list.append(final_error/min_error)"
   ]
  },
  {
   "cell_type": "code",
   "execution_count": 10,
   "id": "technological-housing",
   "metadata": {},
   "outputs": [],
   "source": [
    "results_df = pd.DataFrame({\"lambda\": lmbda_list, \"error\": error_list,\n",
    "                          \"num_frac\": num_frac_list, \"dist_to_vertex\": dist_to_vertex_list,\n",
    "                          \"min_error\": min_error_list, \"error_ratio\": error_ratio_list})"
   ]
  },
  {
   "cell_type": "code",
   "execution_count": 20,
   "id": "innocent-renewal",
   "metadata": {},
   "outputs": [
    {
     "name": "stderr",
     "output_type": "stream",
     "text": [
      "/Users/kartik/ml_workspace/lib/python3.8/site-packages/pandas/core/arraylike.py:358: RuntimeWarning: divide by zero encountered in log\n",
      "  result = getattr(ufunc, method)(*inputs, **kwargs)\n"
     ]
    }
   ],
   "source": [
    "results_df['log_error'] = np.log(results_df['error'])\n",
    "results_df['log_lambda'] = np.log(results_df['lambda'])\n",
    "results_df['log_min_error'] = np.log(results_df['min_error'])"
   ]
  },
  {
   "cell_type": "code",
   "execution_count": 22,
   "id": "cardiac-relaxation",
   "metadata": {},
   "outputs": [
    {
     "data": {
      "text/plain": [
       "<AxesSubplot:xlabel='log_lambda', ylabel='log_error'>"
      ]
     },
     "execution_count": 22,
     "metadata": {},
     "output_type": "execute_result"
    },
    {
     "data": {
      "image/png": "[encoded data removed]",
      "text/plain": [
       "<Figure size 432x288 with 1 Axes>"
      ]
     },
     "metadata": {
      "needs_background": "light"
     },
     "output_type": "display_data"
    }
   ],
   "source": [
    "ax = results_df.plot(x=\"log_lambda\", y=\"log_error\", kind='scatter')\n",
    "results_df.plot(x=\"log_lambda\", y=\"log_min_error\", ax=ax)"
   ]
  },
  {
   "cell_type": "code",
   "execution_count": 23,
   "id": "mobile-essex",
   "metadata": {},
   "outputs": [
    {
     "data": {
      "text/plain": [
       "<AxesSubplot:xlabel='log_lambda', ylabel='num_frac'>"
      ]
     },
     "execution_count": 23,
     "metadata": {},
     "output_type": "execute_result"
    },
    {
     "data": {
      "image/png": "[encoded data removed]",
      "text/plain": [
       "<Figure size 432x288 with 1 Axes>"
      ]
     },
     "metadata": {
      "needs_background": "light"
     },
     "output_type": "display_data"
    }
   ],
   "source": [
    "results_df.plot(x=\"log_lambda\", y=\"num_frac\", kind=\"scatter\")"
   ]
  },
  {
   "cell_type": "code",
   "execution_count": 24,
   "id": "rapid-yield",
   "metadata": {},
   "outputs": [
    {
     "data": {
      "text/plain": [
       "<AxesSubplot:xlabel='log_lambda', ylabel='dist_to_vertex'>"
      ]
     },
     "execution_count": 24,
     "metadata": {},
     "output_type": "execute_result"
    },
    {
     "data": {
      "image/png": "[encoded data removed]",
      "text/plain": [
       "<Figure size 432x288 with 1 Axes>"
      ]
     },
     "metadata": {
      "needs_background": "light"
     },
     "output_type": "display_data"
    }
   ],
   "source": [
    "results_df.plot(x=\"log_lambda\", y=\"dist_to_vertex\", kind=\"scatter\")"
   ]
  },
  {
   "cell_type": "markdown",
   "id": "another-accounting",
   "metadata": {},
   "source": [
    "# Binary search to find optimal lambda (if it exists)"
   ]
  },
  {
   "cell_type": "code",
   "execution_count": 4,
   "id": "respected-forward",
   "metadata": {},
   "outputs": [
    {
     "name": "stdout",
     "output_type": "stream",
     "text": [
      "Lambda = 5.5e-05 | Error_ratio=5017602.635312105 | Final error=0.003091404912993312 | Minimum error=6.161119438269389e-10 | Num fractional coordinates=0.01 | dist_to_veretx=0.0238798800855875\n",
      "Iteration=100000 | Loss=7.93205344962189e-06\n",
      "Lambda = 3.2500000000000004e-05 | Error_ratio=308.29958885512036 | Final error=1.899470589705743e-07 | Minimum error=6.161119438269389e-10 | Num fractional coordinates=0.06 | dist_to_veretx=0.5977756977081299\n",
      "Lambda = 2.125e-05 | Error_ratio=13.357644622832028 | Final error=8.2298043935225e-09 | Minimum error=6.161119438269389e-10 | Num fractional coordinates=1.0 | dist_to_veretx=1.7004562616348267\n",
      "Iteration=100000 | Loss=0.0001420225016772747\n",
      "Iteration=200000 | Loss=9.130993561257128e-08\n",
      "Lambda = 2.6875000000000003e-05 | Error_ratio=11144.368289937545 | Final error=6.866178409836721e-06 | Minimum error=6.161119438269389e-10 | Num fractional coordinates=0.04 | dist_to_veretx=0.41415953636169434\n",
      "Lambda = 2.4062500000000002e-05 | Error_ratio=17.13859053829442 | Final error=1.0559290331002558e-08 | Minimum error=6.161119438269389e-10 | Num fractional coordinates=0.94 | dist_to_veretx=1.7840385437011719\n",
      "Iteration=100000 | Loss=7.245651431730948e-06\n",
      "Iteration=200000 | Loss=4.442195944420746e-08\n",
      "Lambda = 2.5468750000000002e-05 | Error_ratio=735.7833356663942 | Final error=4.5332490117289126e-07 | Minimum error=6.161119438269389e-10 | Num fractional coordinates=0.07 | dist_to_veretx=0.433851420879364\n",
      "Iteration=100000 | Loss=1.336530658591073e-05\n",
      "Iteration=200000 | Loss=6.950471060918062e-07\n",
      "Lambda = 2.4765625e-05 | Error_ratio=14260.590131909408 | Final error=8.786119906289969e-06 | Minimum error=6.161119438269389e-10 | Num fractional coordinates=0.08 | dist_to_veretx=1.1129566431045532\n",
      "Iteration=100000 | Loss=1.1992559848295059e-05\n",
      "Iteration=200000 | Loss=1.0709649700402224e-07\n",
      "Lambda = 2.44140625e-05 | Error_ratio=11731.923543996132 | Final error=7.228178219520487e-06 | Minimum error=6.161119438269389e-10 | Num fractional coordinates=0.06 | dist_to_veretx=0.779746949672699\n",
      "Iteration=100000 | Loss=2.7888527256436646e-05\n",
      "Iteration=200000 | Loss=5.12683891429333e-06\n",
      "Lambda = 2.4238281250000002e-05 | Error_ratio=2325.953286482303 | Final error=1.4330476005852688e-06 | Minimum error=6.161119438269389e-10 | Num fractional coordinates=0.02 | dist_to_veretx=0.4829367995262146\n",
      "Lambda = 2.4150390625000002e-05 | Error_ratio=391.996233103096 | Final error=2.4151356114998634e-07 | Minimum error=6.161119438269389e-10 | Num fractional coordinates=0.64 | dist_to_veretx=1.6364314556121826\n"
     ]
    }
   ],
   "source": [
    "num_samples = 100\n",
    "min_error_list = []\n",
    "error_list = []\n",
    "lmbda_list = []\n",
    "num_frac_list = []\n",
    "dist_to_vertex_list = []\n",
    "error_ratio_list = []\n",
    "l_min = 1e-5\n",
    "l_max = 1e-4\n",
    "\n",
    "for i in range(10):\n",
    "    lmbda = (l_min + l_max)/2\n",
    "    min_error, p_final, results_df = subset_sum(num_samples, lmbda)\n",
    "    final_error = results_df.tail(1).loss.item()\n",
    "    num_frac = get_num_frac(p_final, num_samples)\n",
    "    dist_to_vertex = get_dist_to_vertex(p_final)\n",
    "    print(\"Lambda = {} | Error_ratio={} | Final error={} | Minimum error={} | Num fractional coordinates={} | dist_to_veretx={}\".\\\n",
    "          format(lmbda, final_error/min_error, final_error, min_error, num_frac, dist_to_vertex))\n",
    "    error_list.append(final_error)\n",
    "    min_error_list.append(min_error)\n",
    "    num_frac_list.append(num_frac)\n",
    "    dist_to_vertex_list.append(dist_to_vertex)\n",
    "    lmbda_list.append(lmbda)\n",
    "    error_ratio_list.append(final_error/min_error)\n",
    "    if final_error < min_error or num_frac > 0.5:\n",
    "        l_min = lmbda\n",
    "    else:\n",
    "        l_max = lmbda"
   ]
  },
  {
   "cell_type": "code",
   "execution_count": 5,
   "id": "vulnerable-clothing",
   "metadata": {},
   "outputs": [
    {
     "data": {
      "text/plain": [
       "<AxesSubplot:xlabel='log_lambda', ylabel='log_error'>"
      ]
     },
     "execution_count": 5,
     "metadata": {},
     "output_type": "execute_result"
    },
    {
     "data": {
      "image/png": "[encoded data removed]",
      "text/plain": [
       "<Figure size 432x288 with 1 Axes>"
      ]
     },
     "metadata": {
      "needs_background": "light"
     },
     "output_type": "display_data"
    }
   ],
   "source": [
    "results_df = pd.DataFrame({\"lambda\": lmbda_list, \"error\": error_list,\n",
    "                          \"num_frac\": num_frac_list, \"dist_to_vertex\": dist_to_vertex_list,\n",
    "                          \"min_error\": min_error_list, \"error_ratio\": error_ratio_list})\n",
    "results_df['log_error'] = np.log(results_df['error'])\n",
    "results_df['log_lambda'] = np.log(results_df['lambda'])\n",
    "results_df['log_min_error'] = np.log(results_df['min_error'])\n",
    "\n",
    "ax = results_df.plot(x=\"log_lambda\", y=\"log_error\", kind='scatter')\n",
    "results_df.plot(x=\"log_lambda\", y=\"log_min_error\", ax=ax)"
   ]
  },
  {
   "cell_type": "code",
   "execution_count": 6,
   "id": "polished-receipt",
   "metadata": {},
   "outputs": [
    {
     "data": {
      "text/plain": [
       "<AxesSubplot:xlabel='log_lambda', ylabel='num_frac'>"
      ]
     },
     "execution_count": 6,
     "metadata": {},
     "output_type": "execute_result"
    },
    {
     "data": {
      "image/png": "[encoded data removed]",
      "text/plain": [
       "<Figure size 432x288 with 1 Axes>"
      ]
     },
     "metadata": {
      "needs_background": "light"
     },
     "output_type": "display_data"
    }
   ],
   "source": [
    "results_df.plot(x=\"log_lambda\", y=\"num_frac\", kind=\"scatter\")"
   ]
  },
  {
   "cell_type": "code",
   "execution_count": 7,
   "id": "elect-commercial",
   "metadata": {},
   "outputs": [
    {
     "data": {
      "text/plain": [
       "<AxesSubplot:xlabel='log_lambda', ylabel='dist_to_vertex'>"
      ]
     },
     "execution_count": 7,
     "metadata": {},
     "output_type": "execute_result"
    },
    {
     "data": {
      "image/png": "[encoded data removed]",
      "text/plain": [
       "<Figure size 432x288 with 1 Axes>"
      ]
     },
     "metadata": {
      "needs_background": "light"
     },
     "output_type": "display_data"
    }
   ],
   "source": [
    "results_df.plot(x=\"log_lambda\", y=\"dist_to_vertex\", kind=\"scatter\")"
   ]
  },
  {
   "cell_type": "markdown",
   "id": "grateful-victim",
   "metadata": {},
   "source": [
    "## $2.5\\cdot10^{-5}$ doesn't look too bad!"
   ]
  },
  {
   "cell_type": "markdown",
   "id": "infinite-tuition",
   "metadata": {},
   "source": [
    "## Lambda=0"
   ]
  },
  {
   "cell_type": "code",
   "execution_count": 17,
   "id": "marked-purse",
   "metadata": {},
   "outputs": [
    {
     "name": "stdout",
     "output_type": "stream",
     "text": [
      "Lambda = -1 | Error_ratio=0.8502820850497218 | Final error=5.238689482212067e-10 | Minimum error=6.161119438269389e-10 | Num fractional coordinates=1.0 | dist_to_veretx=1.8306583166122437\n"
     ]
    }
   ],
   "source": [
    "num_samples = 100\n",
    "min_error_list = []\n",
    "error_list = []\n",
    "lmbda_list = []\n",
    "num_frac_list = []\n",
    "dist_to_vertex_list = []\n",
    "error_ratio_list = []\n",
    "\n",
    "for i in range(1):\n",
    "    lmbda = -1\n",
    "    min_error, p_final, results_df = subset_sum(num_samples, lmbda)\n",
    "    final_error = results_df.tail(1).loss.item()\n",
    "    num_frac = get_num_frac(p_final, num_samples)\n",
    "    dist_to_vertex = get_dist_to_vertex(p_final)\n",
    "    print(\"Lambda = {} | Error_ratio={} | Final error={} | Minimum error={} | Num fractional coordinates={} | dist_to_veretx={}\".\\\n",
    "          format(lmbda, final_error/min_error, final_error, min_error, num_frac, dist_to_vertex))\n",
    "    error_list.append(final_error)\n",
    "    min_error_list.append(min_error)\n",
    "    num_frac_list.append(num_frac)\n",
    "    dist_to_vertex_list.append(dist_to_vertex)\n",
    "    lmbda_list.append(lmbda)\n",
    "    error_ratio_list.append(final_error/min_error)\n",
    "    if final_error < min_error or num_frac > 0.5:\n",
    "        l_min = lmbda\n",
    "    else:\n",
    "        l_max = lmbda"
   ]
  },
  {
   "cell_type": "code",
   "execution_count": null,
   "id": "complimentary-thought",
   "metadata": {},
   "outputs": [],
   "source": []
  }
 ],
 "metadata": {
  "kernelspec": {
   "display_name": "Python 3",
   "language": "python",
   "name": "python3"
  },
  "language_info": {
   "codemirror_mode": {
    "name": "ipython",
    "version": 3
   },
   "file_extension": ".py",
   "mimetype": "text/x-python",
   "name": "python",
   "nbconvert_exporter": "python",
   "pygments_lexer": "ipython3",
   "version": "3.8.9"
  }
 },
 "nbformat": 4,
 "nbformat_minor": 5
}
